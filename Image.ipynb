{
 "cells": [
  {
   "cell_type": "code",
   "execution_count": 1,
   "id": "4aa2276e",
   "metadata": {},
   "outputs": [
    {
     "name": "stdout",
     "output_type": "stream",
     "text": [
      "Requirement already satisfied: opencv-python in d:\\tfod\\room\\lib\\site-packages (4.7.0.72)\n",
      "Requirement already satisfied: numpy>=1.21.2 in d:\\tfod\\room\\lib\\site-packages (from opencv-python) (1.23.5)\n"
     ]
    }
   ],
   "source": [
    "!pip install opencv-python"
   ]
  },
  {
   "cell_type": "code",
   "execution_count": 2,
   "id": "262b235c",
   "metadata": {},
   "outputs": [],
   "source": [
    "# Import opencv\n",
    "import cv2 \n",
    "\n",
    "# Import uuid\n",
    "import uuid\n",
    "\n",
    "# Import Operating System\n",
    "import os\n",
    "\n",
    "# Import time\n",
    "import time\n"
   ]
  },
  {
   "cell_type": "code",
   "execution_count": 3,
   "id": "4ee23bae",
   "metadata": {},
   "outputs": [],
   "source": [
    "labels = ['human']\n",
    "number_imgs = 10\n"
   ]
  },
  {
   "cell_type": "code",
   "execution_count": 4,
   "id": "7b6011ce",
   "metadata": {},
   "outputs": [],
   "source": [
    "IMAGES_PATH = os.path.join('Tensorflow', 'workspace', 'images', 'collectedimages')"
   ]
  },
  {
   "cell_type": "code",
   "execution_count": 5,
   "id": "95fe0c97",
   "metadata": {},
   "outputs": [],
   "source": [
    "if not os.path.exists(IMAGES_PATH):#check does pathe exists\n",
    "    if os.name == 'posix':#linux #wt type of os\n",
    "        !mkdir -p {IMAGES_PATH}\n",
    "    if os.name == 'nt':#window\n",
    "         !mkdir {IMAGES_PATH}\n",
    "for label in labels:\n",
    "    path = os.path.join(IMAGES_PATH, label)\n",
    "    if not os.path.exists(path):\n",
    "        !mkdir {path}"
   ]
  },
  {
   "cell_type": "code",
   "execution_count": 6,
   "id": "5dfbed86",
   "metadata": {},
   "outputs": [
    {
     "name": "stdout",
     "output_type": "stream",
     "text": [
      "Collecting images for human\n",
      "Collecting image 0\n",
      "Collecting image 1\n",
      "Collecting image 2\n",
      "Collecting image 3\n",
      "Collecting image 4\n",
      "Collecting image 5\n",
      "Collecting image 6\n",
      "Collecting image 7\n",
      "Collecting image 8\n",
      "Collecting image 9\n"
     ]
    }
   ],
   "source": [
    "for label in labels:\n",
    "    cap = cv2.VideoCapture(0)#connects to web cam 0= 2=mac\n",
    "    print('Collecting images for {}'.format(label))#print label \n",
    "    time.sleep(5)\n",
    "    for imgnum in range(number_imgs):\n",
    "        print('Collecting image {}'.format(imgnum))\n",
    "        ret, frame = cap.read()#capture the frame\n",
    "        imgname = os.path.join(IMAGES_PATH,label,label+'.'+'{}.jpg'.format(str(uuid.uuid1())))\n",
    "        #create new image place particular path,set unique number for images\n",
    "        cv2.imwrite(imgname, frame)\n",
    "        cv2.imshow('frame', frame)#show to screen\n",
    "        time.sleep(2)\n",
    "\n",
    "        if cv2.waitKey(1) & 0xFF == ord('q'):#exist for when ever you want\n",
    "            break\n",
    "cap.release()\n",
    "cv2.destroyAllWindows()"
   ]
  },
  {
   "cell_type": "code",
   "execution_count": 7,
   "id": "10a439b6",
   "metadata": {},
   "outputs": [
    {
     "name": "stdout",
     "output_type": "stream",
     "text": [
      "Requirement already satisfied: pyqt5 in d:\\tfod\\room\\lib\\site-packages (5.15.9)\n",
      "Requirement already satisfied: lxml in d:\\tfod\\room\\lib\\site-packages (4.9.3)\n",
      "Requirement already satisfied: PyQt5-sip<13,>=12.11 in d:\\tfod\\room\\lib\\site-packages (from pyqt5) (12.12.1)\n",
      "Requirement already satisfied: PyQt5-Qt5>=5.15.2 in d:\\tfod\\room\\lib\\site-packages (from pyqt5) (5.15.2)\n"
     ]
    }
   ],
   "source": [
    "!pip install --upgrade pyqt5 lxml"
   ]
  },
  {
   "cell_type": "code",
   "execution_count": 8,
   "id": "dc82bd27",
   "metadata": {},
   "outputs": [],
   "source": [
    "LABELIMG_PATH = os.path.join('Tensorflow', 'labeling')"
   ]
  },
  {
   "cell_type": "code",
   "execution_count": 9,
   "id": "c057fc7b",
   "metadata": {},
   "outputs": [],
   "source": [
    "if not os.path.exists(LABELIMG_PATH):\n",
    "    !mkdir {LABELIMG_PATH}\n",
    "    !git clone https://github.com/tzutalin/labelImg {LABELIMG_PATH}"
   ]
  },
  {
   "cell_type": "code",
   "execution_count": 10,
   "id": "077be19a",
   "metadata": {},
   "outputs": [],
   "source": [
    "if os.name == 'posix':\n",
    "     !cd {LABELIMG_PATH} && make qt5py3\n",
    "if os.name =='nt':\n",
    "    !cd {LABELIMG_PATH} && pyrcc5 -o libs/resources.py resources.qrc"
   ]
  },
  {
   "cell_type": "code",
   "execution_count": 11,
   "id": "085eeec1",
   "metadata": {},
   "outputs": [
    {
     "name": "stdout",
     "output_type": "stream",
     "text": [
      "Image:D:\\TFOD\\Tensorflow\\workspace\\images\\collectedimages\\human\\human.e7b40f8e-1eea-11ee-9cc5-48684a5afce3.jpg -> Annotation:D:/TFOD/Tensorflow/workspace/images/collectedimages/human\\human.e7b40f8e-1eea-11ee-9cc5-48684a5afce3.xml\n",
      "Image:D:\\TFOD\\Tensorflow\\workspace\\images\\collectedimages\\human\\human.e8e898a9-1eea-11ee-99b1-48684a5afce3.jpg -> Annotation:D:/TFOD/Tensorflow/workspace/images/collectedimages/human\\human.e8e898a9-1eea-11ee-99b1-48684a5afce3.xml\n",
      "Image:D:\\TFOD\\Tensorflow\\workspace\\images\\collectedimages\\human\\human.e54ad314-1eea-11ee-962a-48684a5afce3.jpg -> Annotation:D:/TFOD/Tensorflow/workspace/images/collectedimages/human\\human.e54ad314-1eea-11ee-962a-48684a5afce3.xml\n",
      "Image:D:\\TFOD\\Tensorflow\\workspace\\images\\collectedimages\\human\\human.e680cbe8-1eea-11ee-bf96-48684a5afce3.jpg -> Annotation:D:/TFOD/Tensorflow/workspace/images/collectedimages/human\\human.e680cbe8-1eea-11ee-bf96-48684a5afce3.xml\n",
      "Image:D:\\TFOD\\Tensorflow\\workspace\\images\\collectedimages\\human\\human.ea1bc1f0-1eea-11ee-a559-48684a5afce3.jpg -> Annotation:D:/TFOD/Tensorflow/workspace/images/collectedimages/human\\human.ea1bc1f0-1eea-11ee-a559-48684a5afce3.xml\n",
      "Image:D:\\TFOD\\Tensorflow\\workspace\\images\\collectedimages\\human\\human.eb508eef-1eea-11ee-b508-48684a5afce3.jpg -> Annotation:D:/TFOD/Tensorflow/workspace/images/collectedimages/human\\human.eb508eef-1eea-11ee-b508-48684a5afce3.xml\n",
      "Image:D:\\TFOD\\Tensorflow\\workspace\\images\\collectedimages\\human\\human.ec85382c-1eea-11ee-8458-48684a5afce3.jpg -> Annotation:D:/TFOD/Tensorflow/workspace/images/collectedimages/human\\human.ec85382c-1eea-11ee-8458-48684a5afce3.xml\n",
      "Image:D:\\TFOD\\Tensorflow\\workspace\\images\\collectedimages\\human\\human.edba1987-1eea-11ee-a4c0-48684a5afce3.jpg -> Annotation:D:/TFOD/Tensorflow/workspace/images/collectedimages/human\\human.edba1987-1eea-11ee-a4c0-48684a5afce3.xml\n",
      "Image:D:\\TFOD\\Tensorflow\\workspace\\images\\collectedimages\\human\\human.eeeda41e-1eea-11ee-994e-48684a5afce3.jpg -> Annotation:D:/TFOD/Tensorflow/workspace/images/collectedimages/human\\human.eeeda41e-1eea-11ee-994e-48684a5afce3.xml\n",
      "Image:D:\\TFOD\\Tensorflow\\workspace\\images\\collectedimages\\human\\human.f0228a33-1eea-11ee-9215-48684a5afce3.jpg -> Annotation:D:/TFOD/Tensorflow/workspace/images/collectedimages/human\\human.f0228a33-1eea-11ee-9215-48684a5afce3.xml\n"
     ]
    }
   ],
   "source": [
    "!cd {LABELIMG_PATH} && python labelImg.py"
   ]
  },
  {
   "cell_type": "code",
   "execution_count": 12,
   "id": "9dd875fc",
   "metadata": {},
   "outputs": [],
   "source": [
    "#Compress them for colab training\n",
    "TRAIN_PATH = os.path.join('Tensorflow', 'workspace', 'images', 'train')\n",
    "TEST_PATH = os.path.join('Tensorflow', 'workspace', 'images', 'test')\n",
    "ARCHIVE_PATH = os.path.join('Tensorflow', 'workspace', 'images', 'archive.tar.gz')"
   ]
  },
  {
   "cell_type": "code",
   "execution_count": 13,
   "id": "463c8321",
   "metadata": {},
   "outputs": [],
   "source": [
    "!tar -czf {ARCHIVE_PATH} {TRAIN_PATH} {TEST_PATH}"
   ]
  },
  {
   "cell_type": "code",
   "execution_count": null,
   "id": "0658a28a",
   "metadata": {},
   "outputs": [],
   "source": []
  },
  {
   "cell_type": "code",
   "execution_count": null,
   "id": "3b249d37",
   "metadata": {},
   "outputs": [],
   "source": []
  }
 ],
 "metadata": {
  "kernelspec": {
   "display_name": "ROOM",
   "language": "python",
   "name": "room"
  },
  "language_info": {
   "codemirror_mode": {
    "name": "ipython",
    "version": 3
   },
   "file_extension": ".py",
   "mimetype": "text/x-python",
   "name": "python",
   "nbconvert_exporter": "python",
   "pygments_lexer": "ipython3",
   "version": "3.11.4"
  }
 },
 "nbformat": 4,
 "nbformat_minor": 5
}
